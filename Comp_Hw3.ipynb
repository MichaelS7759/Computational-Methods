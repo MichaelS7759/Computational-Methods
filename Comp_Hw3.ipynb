{
 "cells": [
  {
   "cell_type": "code",
   "execution_count": 90,
   "id": "e5fb66d8",
   "metadata": {},
   "outputs": [],
   "source": [
    "#import libraries\n",
    "import numpy as np\n",
    "from scipy.linalg import lu\n",
    "import matplotlib.pyplot as plt"
   ]
  },
  {
   "cell_type": "markdown",
   "id": "22788c90",
   "metadata": {},
   "source": [
    "# Problem 1"
   ]
  },
  {
   "cell_type": "code",
   "execution_count": 6,
   "id": "ebed8ca2",
   "metadata": {},
   "outputs": [],
   "source": [
    "A_2x2 = np.array([[1.,  2.],\n",
    "                  [3., -1.]])\n",
    "\n",
    "B_2x2 = np.array([[3., -2.],\n",
    "                  [2., 1.]])\n",
    "\n",
    "C_3x1 = np.array([[1.],\n",
    "                  [2.],\n",
    "                  [3.]])\n",
    "\n",
    "D_2x3 = np.array([[ 1., 3.,  1.],\n",
    "                  [-2., 1., -1.]])\n",
    "\n",
    "E_3x2 = np.array([[ 3., 1.],\n",
    "                  [ 0., 3.],\n",
    "                  [-2., 2.]])\n",
    "\n",
    "F_2x3 = np.array([[ 2., 1.,  2.],\n",
    "                  [-1., 3., -2.]])"
   ]
  },
  {
   "cell_type": "code",
   "execution_count": 7,
   "id": "16252b9f",
   "metadata": {},
   "outputs": [
    {
     "ename": "ValueError",
     "evalue": "matmul: Input operand 1 has a mismatch in its core dimension 0, with gufunc signature (n?,k),(k,m?)->(n?,m?) (size 2 is different from 1)",
     "output_type": "error",
     "traceback": [
      "\u001b[31m---------------------------------------------------------------------------\u001b[39m",
      "\u001b[31mValueError\u001b[39m                                Traceback (most recent call last)",
      "\u001b[36mCell\u001b[39m\u001b[36m \u001b[39m\u001b[32mIn[7]\u001b[39m\u001b[32m, line 2\u001b[39m\n\u001b[32m      1\u001b[39m AB = A_2x2 @ B_2x2\n\u001b[32m----> \u001b[39m\u001b[32m2\u001b[39m CD = \u001b[43mC_3x1\u001b[49m\u001b[43m \u001b[49m\u001b[43m@\u001b[49m\u001b[43m \u001b[49m\u001b[43mD_2x3\u001b[49m\n\u001b[32m      3\u001b[39m EF = E_3x2 @ F_2x3\n\u001b[32m      5\u001b[39m \u001b[38;5;28mprint\u001b[39m(AB)\n",
      "\u001b[31mValueError\u001b[39m: matmul: Input operand 1 has a mismatch in its core dimension 0, with gufunc signature (n?,k),(k,m?)->(n?,m?) (size 2 is different from 1)"
     ]
    }
   ],
   "source": [
    "AB = A_2x2 @ B_2x2\n",
    "CD = C_3x1 @ D_2x3\n",
    "EF = E_3x2 @ F_2x3\n",
    "\n",
    "print(AB)\n",
    "print(CD)\n",
    "print(EF)"
   ]
  },
  {
   "cell_type": "code",
   "execution_count": null,
   "id": "20746c44",
   "metadata": {},
   "outputs": [
    {
     "ename": "ValueError",
     "evalue": "matmul: Input operand 1 has a mismatch in its core dimension 0, with gufunc signature (n?,k),(k,m?)->(n?,m?) (size 3 is different from 2)",
     "output_type": "error",
     "traceback": [
      "\u001b[31m---------------------------------------------------------------------------\u001b[39m",
      "\u001b[31mValueError\u001b[39m                                Traceback (most recent call last)",
      "\u001b[36mCell\u001b[39m\u001b[36m \u001b[39m\u001b[32mIn[8]\u001b[39m\u001b[32m, line 6\u001b[39m\n\u001b[32m      3\u001b[39m FT = np.linalg.matrix_transpose(F_2x3)\n\u001b[32m      5\u001b[39m ATB = AT @ B_2x2\n\u001b[32m----> \u001b[39m\u001b[32m6\u001b[39m BDT = \u001b[43mB_2x2\u001b[49m\u001b[43m \u001b[49m\u001b[43m@\u001b[49m\u001b[43m \u001b[49m\u001b[43mDT\u001b[49m\n\u001b[32m      7\u001b[39m DTFT = DT @ FT\n\u001b[32m      9\u001b[39m \u001b[38;5;28mprint\u001b[39m(ATB)\n",
      "\u001b[31mValueError\u001b[39m: matmul: Input operand 1 has a mismatch in its core dimension 0, with gufunc signature (n?,k),(k,m?)->(n?,m?) (size 3 is different from 2)"
     ]
    }
   ],
   "source": [
    "AT = np.linalg.matrix_transpose(A_2x2)\n",
    "DT = np.linalg.matrix_transpose (D_2x3)\n",
    "FT = np.linalg.matrix_transpose(F_2x3)\n",
    "\n",
    "ATB = AT @ B_2x2\n",
    "BDT = B_2x2 @ DT\n",
    "DTFT = DT @ FT\n",
    "\n",
    "print(ATB)\n",
    "print(BDT)\n",
    "print(DTFT)"
   ]
  },
  {
   "cell_type": "markdown",
   "id": "0a920a79",
   "metadata": {},
   "source": [
    "### The issues with the matrix multiplication are in the mismatch of indicies"
   ]
  },
  {
   "cell_type": "markdown",
   "id": "c0ffc467",
   "metadata": {},
   "source": [
    "# Problem 2"
   ]
  },
  {
   "cell_type": "code",
   "execution_count": 91,
   "id": "612abc0a",
   "metadata": {},
   "outputs": [
    {
     "name": "stdout",
     "output_type": "stream",
     "text": [
      "[[ 0.5   0.5  -0.5 ]\n",
      " [-1.25  0.75 -0.25]\n",
      " [ 0.5  -0.5   0.5 ]]\n"
     ]
    },
    {
     "data": {
      "text/plain": [
       "array([[1., 0., 0.],\n",
       "       [0., 1., 0.],\n",
       "       [0., 0., 1.]])"
      ]
     },
     "execution_count": 91,
     "metadata": {},
     "output_type": "execute_result"
    }
   ],
   "source": [
    "M_3x3 = np.array([[1, 0, 1],\n",
    "                  [2, 2, 3],\n",
    "                  [1, 2, 4]])\n",
    "\n",
    "MInverse = np.linalg.inv(M_3x3)\n",
    "\n",
    "print(MInverse)\n",
    "\n",
    "M_3x3 @ MInverse\n"
   ]
  },
  {
   "cell_type": "markdown",
   "id": "ffa6fdd3",
   "metadata": {},
   "source": [
    "# Problem 3"
   ]
  },
  {
   "cell_type": "code",
   "execution_count": 92,
   "id": "5daa7cee",
   "metadata": {},
   "outputs": [
    {
     "name": "stdout",
     "output_type": "stream",
     "text": [
      "[[ 1. -0.  0.]\n",
      " [-0.  1. -0.]\n",
      " [ 0. -0.  1.]]\n",
      "[[ 1.  0. -0.]\n",
      " [ 0.  1.  0.]\n",
      " [-0.  0.  1.]]\n"
     ]
    }
   ],
   "source": [
    "P_3x3 = (1 / 7) * np.array([[ 3, -2, -6],\n",
    "                            [-6, -3, -2],\n",
    "                            [-2,  6, -3]])\n",
    "\n",
    "PT = np.linalg.matrix_transpose(P_3x3)\n",
    "\n",
    "print((P_3x3 @ PT).round(2))\n",
    "print((PT @ P_3x3).round(2))"
   ]
  },
  {
   "cell_type": "markdown",
   "id": "846a083f",
   "metadata": {},
   "source": [
    "# Problem 4"
   ]
  },
  {
   "cell_type": "code",
   "execution_count": 93,
   "id": "39a44359",
   "metadata": {},
   "outputs": [
    {
     "name": "stdout",
     "output_type": "stream",
     "text": [
      "[[-1.]\n",
      " [ 0.]\n",
      " [ 1.]\n",
      " [ 2.]]\n"
     ]
    }
   ],
   "source": [
    "X_4x4 = np.array([[-1, 3, 5,  2],\n",
    "                  [ 1, 9, 8,  4],\n",
    "                  [ 0, 1, 0,  1],\n",
    "                  [ 2, 1, 1, -1]])\n",
    "\n",
    "Y_4x1 = np.array([[10],\n",
    "                  [15],\n",
    "                  [ 2],\n",
    "                  [-3]])\n",
    "\n",
    "x = np.linalg.solve(X_4x4, Y_4x1).round(2)\n",
    "print(x)"
   ]
  },
  {
   "cell_type": "markdown",
   "id": "8e081dd4",
   "metadata": {},
   "source": [
    "# Problem 5"
   ]
  },
  {
   "cell_type": "code",
   "execution_count": 94,
   "id": "bb93dc17",
   "metadata": {},
   "outputs": [
    {
     "name": "stdout",
     "output_type": "stream",
     "text": [
      "System of equations:\n",
      "[  4*x1 +  -1*x2 +  -1*x3 +   0*x4] = [  1]\n",
      "[ -1*x1 +   4*x2 +   0*x3 +  -1*x4] = [  2]\n",
      "[ -1*x1 +   0*x2 +   4*x3 +  -1*x4] = [  0]\n",
      "[  0*x1 +  -1*x2 +  -1*x3 +   4*x4] = [  1]\n",
      "Iteration 1: [0. 0. 0. 0.]\n",
      "Iteration 2: [0.25    0.5625  0.0625  0.40625]\n",
      "Iteration 3: [0.40625   0.703125  0.203125  0.4765625]\n",
      "Iteration 4: [0.4765625  0.73828125 0.23828125 0.49414062]\n",
      "Iteration 5: [0.49414062 0.74707031 0.24707031 0.49853516]\n",
      "Iteration 6: [0.49853516 0.74926758 0.24926758 0.49963379]\n",
      "Iteration 7: [0.49963379 0.74981689 0.24981689 0.49990845]\n",
      "Iteration 8: [0.49990845 0.74995422 0.24995422 0.49997711]\n",
      "Solution: [0.5  0.75 0.25 0.5 ]\n",
      "Error: [-6.86645508e-05 -1.71661377e-05 -1.71661377e-05  0.00000000e+00]\n"
     ]
    }
   ],
   "source": [
    "ITERATION_LIMIT = 9\n",
    "\n",
    "# initialize the matrix\n",
    "A = np.array([[ 4., -1., -1.,  0.],\n",
    "              [-1.,  4.,  0., -1.],\n",
    "              [-1.,  0.,  4., -1.],\n",
    "              [ 0., -1., -1.,  4.]])\n",
    "\n",
    "# initialize the RHS vector\n",
    "b = np.array([1., 2., 0., 1.])\n",
    "\n",
    "print(\"System of equations:\")\n",
    "for i in range(A.shape[0]):\n",
    "    row = [f\"{A[i,j]:3g}*x{j+1}\" for j in range(A.shape[1])]\n",
    "    print(\"[{0}] = [{1:3g}]\".format(\" + \".join(row), b[i]))\n",
    "\n",
    "x = np.zeros_like(b, np.float64)\n",
    "for it_count in range(1, ITERATION_LIMIT):\n",
    "    x_new = np.zeros_like(x, dtype=np.float64)\n",
    "    print(f\"Iteration {it_count}: {x}\")\n",
    "    for i in range(A.shape[0]):\n",
    "        s1 = np.dot(A[i, :i], x_new[:i])\n",
    "        s2 = np.dot(A[i, i + 1 :], x[i + 1 :])\n",
    "        x_new[i] = (b[i] - s1 - s2) / A[i, i]\n",
    "    if np.allclose(x, x_new, rtol=1e-8):\n",
    "        break\n",
    "    x = x_new\n",
    "\n",
    "print(f\"Solution: {x.round(2)}\")\n",
    "error = np.dot(A, x) - b\n",
    "print(f\"Error: {error}\")"
   ]
  },
  {
   "cell_type": "markdown",
   "id": "2f641138",
   "metadata": {},
   "source": [
    "### It takes a minimum of 9 iterations for a error of 10^-5 or better"
   ]
  },
  {
   "cell_type": "code",
   "execution_count": 95,
   "id": "8f345ed4",
   "metadata": {},
   "outputs": [
    {
     "name": "stdout",
     "output_type": "stream",
     "text": [
      "System of equations:\n",
      "[  4*x1 +  -1*x2 +  -1*x3 +   0*x4] = [  4]\n",
      "[ -1*x1 +   4*x2 +   0*x3 +  -1*x4] = [  2]\n",
      "[ -1*x1 +   0*x2 +   4*x3 +  -1*x4] = [ 10]\n",
      "[  0*x1 +  -1*x2 +  -1*x3 +   4*x4] = [ -2]\n",
      "Iteration 1: [0. 0. 0. 0.]\n",
      "Iteration 2: [1.    0.75  2.75  0.375]\n",
      "Iteration 3: [1.875   1.0625  3.0625  0.53125]\n",
      "Iteration 4: [2.03125   1.140625  3.140625  0.5703125]\n",
      "Iteration 5: [2.0703125  1.16015625 3.16015625 0.58007812]\n",
      "Iteration 6: [2.08007812 1.16503906 3.16503906 0.58251953]\n",
      "Iteration 7: [2.08251953 1.16625977 3.16625977 0.58312988]\n",
      "Iteration 8: [2.08312988 1.16656494 3.16656494 0.58328247]\n",
      "Solution: [2.08 1.17 3.17 0.58]\n",
      "Error: [-1.52587891e-04 -3.81469727e-05 -3.81469727e-05  0.00000000e+00]\n"
     ]
    }
   ],
   "source": [
    "ITERATION_LIMIT = 9\n",
    "\n",
    "# initialize the RHS vector\n",
    "b = np.array([4., 2., 10., -2.])\n",
    "\n",
    "print(\"System of equations:\")\n",
    "for i in range(A.shape[0]):\n",
    "    row = [f\"{A[i,j]:3g}*x{j+1}\" for j in range(A.shape[1])]\n",
    "    print(\"[{0}] = [{1:3g}]\".format(\" + \".join(row), b[i]))\n",
    "\n",
    "x = np.zeros_like(b, np.float64)\n",
    "for it_count in range(1, ITERATION_LIMIT):\n",
    "    x_new = np.zeros_like(x, dtype=np.float64)\n",
    "    print(f\"Iteration {it_count}: {x}\")\n",
    "    for i in range(A.shape[0]):\n",
    "        s1 = np.dot(A[i, :i], x_new[:i])\n",
    "        s2 = np.dot(A[i, i + 1 :], x[i + 1 :])\n",
    "        x_new[i] = (b[i] - s1 - s2) / A[i, i]\n",
    "    if np.allclose(x, x_new, rtol=1e-8):\n",
    "        break\n",
    "    x = x_new\n",
    "\n",
    "print(f\"Solution: {x.round(2)}\")\n",
    "error = np.dot(A, x) - b\n",
    "print(f\"Error: {error}\")"
   ]
  },
  {
   "cell_type": "markdown",
   "id": "2f0b6c30",
   "metadata": {},
   "source": [
    "# 6. (Problem 4.12)"
   ]
  },
  {
   "cell_type": "code",
   "execution_count": 111,
   "id": "ee6eb938",
   "metadata": {},
   "outputs": [],
   "source": [
    "def fwd_sub(L, b):\n",
    "    n = len(b)\n",
    "    x = np.zeros(n)\n",
    "\n",
    "    for i in range(n):\n",
    "        x[i] = (b[i] - np.dot(L[i, :i], x[:i])) / L[i, i]\n",
    "\n",
    "    return x\n",
    "\n",
    "def back_sub(U, b):\n",
    "    n = len(b)\n",
    "    x = np.zeros(n)\n",
    "\n",
    "    for i in range (n -1, -1, -1):\n",
    "        x[i] = (b[i] - np.dot(U[i, i+1:], x[i +1:])) / U[i, i]\n",
    "\n",
    "    return x\n",
    "\n",
    "def lu_inverse(A):\n",
    "    A = A.astype(float)\n",
    "    P, L, U = lu(A)\n",
    "    n = A.shape[0]\n",
    "    A_inv = np.zeros((n, n))\n",
    "\n",
    "    for i in range(n):\n",
    "        e_i = np.zeros(n)\n",
    "        e_i[i] = 1\n",
    "\n",
    "        y = fwd_sub(L, np.dot(P, e_i))\n",
    "        x = back_sub(U, y)\n",
    "\n",
    "        A_inv[:, i] = x\n",
    "\n",
    "    return A_inv"
   ]
  },
  {
   "cell_type": "code",
   "execution_count": 112,
   "id": "4ba26861",
   "metadata": {},
   "outputs": [
    {
     "name": "stdout",
     "output_type": "stream",
     "text": [
      "[[ 1.  0. -0. -0.]\n",
      " [-0.  1.  0. -0.]\n",
      " [ 0.  0.  1. -0.]\n",
      " [ 0.  0.  0.  1.]]\n",
      "[[ 4. -1. -1.  0.]\n",
      " [-1.  4.  0. -1.]\n",
      " [-1.  0.  4. -1.]\n",
      " [ 0. -1. -1.  4.]]\n"
     ]
    }
   ],
   "source": [
    "print((lu_inverse(A) @ A).round(2))\n",
    "print(A)\n"
   ]
  },
  {
   "cell_type": "code",
   "execution_count": 113,
   "id": "7c3d3104",
   "metadata": {},
   "outputs": [],
   "source": [
    "def lu_det(A):\n",
    "    P,L, U = lu(A)\n",
    "    \n",
    "    return np.prod(np.diag(U))"
   ]
  },
  {
   "cell_type": "code",
   "execution_count": 114,
   "id": "3ab17700",
   "metadata": {},
   "outputs": [
    {
     "data": {
      "text/plain": [
       "np.True_"
      ]
     },
     "execution_count": 114,
     "metadata": {},
     "output_type": "execute_result"
    }
   ],
   "source": [
    "lu_det(A) == np.linalg.det(A)"
   ]
  },
  {
   "cell_type": "markdown",
   "id": "a2d94caf",
   "metadata": {},
   "source": [
    "# 7. (NB)"
   ]
  },
  {
   "cell_type": "code",
   "execution_count": 115,
   "id": "99aea918",
   "metadata": {},
   "outputs": [],
   "source": [
    "A_2x2 = np.array([[0.780, 0.563],\n",
    "                  [0.913, 0.659]])\n",
    "\n",
    "b_2x1 = np.array([0.217, 0.254])\n",
    "\n",
    "x_exact = np.array([1, -1])\n",
    "\n",
    "x_alpha = np.array([0.999, -1.001])\n",
    "\n",
    "x_beta = np.array([0.341, -0.087])"
   ]
  },
  {
   "cell_type": "code",
   "execution_count": 116,
   "id": "2ad8bbc8",
   "metadata": {},
   "outputs": [
    {
     "name": "stdout",
     "output_type": "stream",
     "text": [
      "x Exact residule:\n",
      "[-8.32667268e-17  0.00000000e+00]\n",
      "\n",
      "X Alpha residule:\n",
      "[0.001343 0.001572]\n",
      "\n",
      "X Beta residule:\n",
      "[1.e-06 0.e+00]\n"
     ]
    }
   ],
   "source": [
    "r_exact = b_2x1 - A_2x2 @ x_exact\n",
    "r_alpha = b_2x1 - A_2x2 @ x_alpha\n",
    "r_beta = b_2x1 - A_2x2 @ x_beta\n",
    "\n",
    "print(f\"x Exact residule:\\n{r_exact}\")\n",
    "print(f\"\\nX Alpha residule:\\n{r_alpha}\")\n",
    "print(f\"\\nX Beta residule:\\n{r_beta}\")"
   ]
  },
  {
   "cell_type": "markdown",
   "id": "1c7b12a2",
   "metadata": {},
   "source": [
    "### X Beta has a smaller residule than X Alpha"
   ]
  },
  {
   "cell_type": "code",
   "execution_count": 117,
   "id": "886a7e84",
   "metadata": {},
   "outputs": [
    {
     "name": "stdout",
     "output_type": "stream",
     "text": [
      "1.000000000122681e-06\n"
     ]
    }
   ],
   "source": [
    "A_det = np.linalg.det(A_2x2)\n",
    "print(A_det)"
   ]
  },
  {
   "cell_type": "markdown",
   "id": "a086b1d5",
   "metadata": {},
   "source": [
    "### The determinate shows that the Matrix is not well-posed"
   ]
  },
  {
   "cell_type": "code",
   "execution_count": 118,
   "id": "11e504ef",
   "metadata": {},
   "outputs": [
    {
     "name": "stdout",
     "output_type": "stream",
     "text": [
      "[ 1. -1.]\n"
     ]
    }
   ],
   "source": [
    "print(np.linalg.solve(A_2x2, b_2x1))"
   ]
  },
  {
   "cell_type": "markdown",
   "id": "64dc7fd5",
   "metadata": {},
   "source": [
    "# 8. (Problem 4.26)"
   ]
  },
  {
   "cell_type": "code",
   "execution_count": 119,
   "id": "ff1e0fe5",
   "metadata": {},
   "outputs": [],
   "source": [
    "A = np.array([[ 4., -1., -1.,  0.],\n",
    "              [-1.,  4.,  0., -1.],\n",
    "              [-1.,  0.,  4., -1.],\n",
    "              [ 0., -1., -1.,  4.]])\n",
    "\n",
    "b = np.array([1., 2., 0., 1.])"
   ]
  },
  {
   "cell_type": "code",
   "execution_count": 120,
   "id": "2d539efc",
   "metadata": {},
   "outputs": [],
   "source": [
    "def qrdec(A):\n",
    "    n = A.shape[0]\n",
    "    Ap = np.copy(A)\n",
    "    Q = np.zeros((n, n))\n",
    "    R = np.zeros((n, n))\n",
    "    for j in range(n):\n",
    "        for i in range(j):\n",
    "            R[i, j] = Q[:, i] @ A[:, j]\n",
    "            Ap[:, j] -= R[i, j] * Q[:, i]\n",
    "\n",
    "        R[j, j] = np.linalg.norm(Ap[:, j])\n",
    "        Q[:, j] = Ap[:, j] / R[j, j]\n",
    "    return Q, R"
   ]
  },
  {
   "cell_type": "code",
   "execution_count": 121,
   "id": "c828fcef",
   "metadata": {},
   "outputs": [
    {
     "name": "stdout",
     "output_type": "stream",
     "text": [
      "[[ 4. -1. -1. -0.]\n",
      " [-1.  4.  0. -1.]\n",
      " [-1.  0.  4. -1.]\n",
      " [ 0. -1. -1.  4.]]\n"
     ]
    }
   ],
   "source": [
    "Q, R = qrdec(A)\n",
    "print((Q @ R).round(2))"
   ]
  },
  {
   "cell_type": "code",
   "execution_count": 122,
   "id": "9671039b",
   "metadata": {},
   "outputs": [
    {
     "data": {
      "text/plain": [
       "array([0.5 , 0.75, 0.25, 0.5 ])"
      ]
     },
     "execution_count": 122,
     "metadata": {},
     "output_type": "execute_result"
    }
   ],
   "source": [
    "x = back_sub(R, Q.T @ b)\n",
    "x"
   ]
  },
  {
   "cell_type": "markdown",
   "id": "6070398a",
   "metadata": {},
   "source": [
    "# 9. (NB)"
   ]
  },
  {
   "cell_type": "code",
   "execution_count": 127,
   "id": "c707eed0",
   "metadata": {},
   "outputs": [],
   "source": [
    "M_x = (1 / np.sqrt(2)) * np.array([[0, 1, 0],\n",
    "                                   [1, 0, 1],\n",
    "                                   [0, 1, 0]])\n",
    "\n",
    "\n",
    "M_y = (1 / np.sqrt(2)) * np.array([[0, -1j, 0],\n",
    "                                   [1j, 0, -1j],\n",
    "                                   [0, 1j, 0]])\n",
    "\n",
    "M_z = np.array([[1, 0, 0],\n",
    "                [0, 0, 0],\n",
    "                [0, 0, -1]])\n"
   ]
  },
  {
   "cell_type": "code",
   "execution_count": 129,
   "id": "d54364a6",
   "metadata": {},
   "outputs": [],
   "source": [
    "def Commutator(A, B):\n",
    "    commutation = (A @ B) - (B @ A)\n",
    "    return commutation"
   ]
  },
  {
   "cell_type": "code",
   "execution_count": 134,
   "id": "40b3ce24",
   "metadata": {},
   "outputs": [
    {
     "name": "stdout",
     "output_type": "stream",
     "text": [
      "[[0.+1.j 0.+0.j 0.+0.j]\n",
      " [0.+0.j 0.+0.j 0.+0.j]\n",
      " [0.+0.j 0.+0.j 0.-1.j]]\n",
      "[[ 0.+1.j  0.+0.j  0.+0.j]\n",
      " [ 0.+0.j  0.+0.j  0.+0.j]\n",
      " [ 0.+0.j  0.+0.j -0.-1.j]]\n"
     ]
    },
    {
     "data": {
      "text/plain": [
       "array([[ True,  True,  True],\n",
       "       [ True,  True,  True],\n",
       "       [ True,  True,  True]])"
      ]
     },
     "execution_count": 134,
     "metadata": {},
     "output_type": "execute_result"
    }
   ],
   "source": [
    "print(Commutator(M_x, M_y))\n",
    "print(1j * M_z)\n",
    "Commutator(M_x, M_y).round(5) == (1j * M_z).round(5)"
   ]
  },
  {
   "cell_type": "code",
   "execution_count": 137,
   "id": "03b2ac0b",
   "metadata": {},
   "outputs": [
    {
     "name": "stdout",
     "output_type": "stream",
     "text": [
      "[[ True  True  True]\n",
      " [ True  True  True]\n",
      " [ True  True  True]]\n",
      "[[ True  True  True]\n",
      " [ True  True  True]\n",
      " [ True  True  True]]\n",
      "[[ True  True  True]\n",
      " [ True  True  True]\n",
      " [ True  True  True]]\n"
     ]
    }
   ],
   "source": [
    "print(Commutator(M_x, M_y).round(5) == (1j * M_z).round(5))\n",
    "print(Commutator(M_z, M_x).round(5) == (1j * M_y).round(5))\n",
    "print(Commutator(M_y, M_z).round(5) == (1j * M_x).round(5))"
   ]
  },
  {
   "cell_type": "code",
   "execution_count": 149,
   "id": "fd2aa037",
   "metadata": {},
   "outputs": [
    {
     "data": {
      "text/plain": [
       "array([[ True,  True,  True],\n",
       "       [ True,  True,  True],\n",
       "       [ True,  True,  True]])"
      ]
     },
     "execution_count": 149,
     "metadata": {},
     "output_type": "execute_result"
    }
   ],
   "source": [
    "((M_x @ M_x) + (M_y @ M_y) + (M_z @ M_z)).round(5) == 2 * np.identity(3)"
   ]
  },
  {
   "cell_type": "code",
   "execution_count": null,
   "id": "f75ba1bf",
   "metadata": {},
   "outputs": [],
   "source": [
    "L_plus = M_x + (1.j * M_y)\n",
    "L_minus = M_x - (1.j * M_y)"
   ]
  },
  {
   "cell_type": "code",
   "execution_count": 144,
   "id": "e8040c2b",
   "metadata": {},
   "outputs": [
    {
     "data": {
      "text/plain": [
       "array([[ True,  True,  True],\n",
       "       [ True,  True,  True],\n",
       "       [ True,  True,  True]])"
      ]
     },
     "execution_count": 144,
     "metadata": {},
     "output_type": "execute_result"
    }
   ],
   "source": [
    "Commutator(L_plus, L_minus).round(5) == (2 * M_z).round(5)"
   ]
  },
  {
   "cell_type": "markdown",
   "id": "39730d4a",
   "metadata": {},
   "source": [
    "# 10. (NB)"
   ]
  },
  {
   "cell_type": "code",
   "execution_count": 156,
   "id": "efe7b5b2",
   "metadata": {},
   "outputs": [],
   "source": [
    "L_plus = np.array([[0, 1, 0],\n",
    "                   [0, 0, 1],\n",
    "                   [0, 0, 0]])\n",
    "\n",
    "L_minus = np.array([[0, 0, 0],\n",
    "                    [1, 0, 0],\n",
    "                    [0, 1, 0]])\n",
    "\n",
    "ket_minus1 = np.array([0, 0, 1])\n",
    "\n",
    "ket_zero = np.array([0, 1, 0])\n",
    "\n",
    "ket_plus1 = np.array([1, 0, 0])\n",
    "\n",
    "null = np. array ([0, 0, 0])"
   ]
  },
  {
   "cell_type": "code",
   "execution_count": 162,
   "id": "d3bf5544",
   "metadata": {},
   "outputs": [
    {
     "name": "stdout",
     "output_type": "stream",
     "text": [
      "[ True  True  True]\n",
      "[ True  True  True]\n",
      "[ True  True  True]\n",
      "[ True  True  True]\n",
      "[ True  True  True]\n",
      "[ True  True  True]\n"
     ]
    }
   ],
   "source": [
    "print(L_plus @ ket_minus1 == ket_zero)\n",
    "print(L_minus @ ket_minus1 == null)\n",
    "print(L_plus @ ket_zero == ket_plus1)\n",
    "print(L_minus @ ket_zero == ket_minus1)\n",
    "print(L_plus @ ket_plus1 == null)\n",
    "print(L_minus @ ket_plus1 == ket_zero)"
   ]
  },
  {
   "cell_type": "code",
   "execution_count": null,
   "id": "a27ebe18",
   "metadata": {},
   "outputs": [],
   "source": []
  }
 ],
 "metadata": {
  "kernelspec": {
   "display_name": "Python 3",
   "language": "python",
   "name": "python3"
  },
  "language_info": {
   "codemirror_mode": {
    "name": "ipython",
    "version": 3
   },
   "file_extension": ".py",
   "mimetype": "text/x-python",
   "name": "python",
   "nbconvert_exporter": "python",
   "pygments_lexer": "ipython3",
   "version": "3.13.7"
  }
 },
 "nbformat": 4,
 "nbformat_minor": 5
}
